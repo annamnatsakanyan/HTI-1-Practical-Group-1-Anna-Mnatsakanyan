{
 "cells": [
  {
   "cell_type": "code",
   "execution_count": 39,
   "metadata": {},
   "outputs": [],
   "source": [
    "class Laptop:\n",
    "    def __init__(self, Manufacturer, ModelName, Category, ScreenSize, Screen, CPU, RAM, Storage, GPU, OperatingSystem,\n",
    "                 OperatingSystemVersion, Weight, Price):\n",
    "        self.Manufacturer = Manufacturer\n",
    "        self.ModelName = ModelName\n",
    "        self.Category = Category\n",
    "        self.ScreenSize = ScreenSize\n",
    "        self.Screen = Screen\n",
    "        self.CPU = CPU\n",
    "        self.RAM = RAM\n",
    "        self.Storage = Storage\n",
    "        self.GPU = GPU\n",
    "        self.OperatingSystem = OperatingSystem\n",
    "        self.OperatingSystemVersion = OperatingSystemVersion\n",
    "        self.Weight = Weight\n",
    "        self.Price = Price"
   ]
  },
  {
   "cell_type": "code",
   "execution_count": 40,
   "metadata": {},
   "outputs": [],
   "source": [
    "import csv\n",
    "import re\n",
    "\n",
    "\n",
    "\n",
    "def laptops():\n",
    "    with open('laptops.csv', encoding='mac_roman') as f:\n",
    "        csv_reader = csv.reader(f)\n",
    "\n",
    "        for i, row in enumerate(csv_reader):\n",
    "            if i == 0:\n",
    "                continue\n",
    "           \n",
    "\n",
    "            yield Laptop(\n",
    "                Manufacturer = row[0], \n",
    "                ModelName = row[1], \n",
    "                Category = row[2], \n",
    "                ScreenSize = float(row[3][:-1]), \n",
    "                Screen = row[4], \n",
    "                CPU = row[5], \n",
    "                RAM = int(row[-7][:-2]) ,\n",
    "                Storage = row[-6],\n",
    "                GPU = row[-5],\n",
    "                OperatingSystem = row[-4],\n",
    "                OperatingSystemVersion = row[-3],\n",
    "                Weight = row[-2].rstrip(\"kg\").rstrip(\"kgs\"),\n",
    "                Price = float(row[-1].replace('.','').replace(',','.'))\n",
    "            )"
   ]
  },
  {
   "cell_type": "code",
   "execution_count": 41,
   "metadata": {},
   "outputs": [
    {
     "name": "stdout",
     "output_type": "stream",
     "text": [
      "The 1th most expensive laptop is Razer Blade Pro with price of 6099.0 Euros\n",
      "The 2th most expensive laptop is Razer Blade Pro with price of 5499.0 Euros\n",
      "The 3th most expensive laptop is Lenovo Thinkpad P51 with price of 4899.0 Euros\n",
      "The 4th most expensive laptop is HP Zbook 17 with price of 4389.0 Euros\n",
      "The 5th most expensive laptop is Asus ROG G701VO with price of 3975.0 Euros\n"
     ]
    }
   ],
   "source": [
    "laptops_of_max_prices = []\n",
    "max_count = 5\n",
    "for laptop in laptops():\n",
    "    if len(laptops_of_max_prices) < max_count or laptop.Price > laptops_of_max_prices[-1].Price:\n",
    "        if len(laptops_of_max_prices) >= max_count:\n",
    "            del laptops_of_max_prices[-1]\n",
    "            \n",
    "        if len(laptops_of_max_prices) == 0:\n",
    "            laptops_of_max_prices.append(laptop)\n",
    "        else:\n",
    "            i = 0\n",
    "            while i < len(laptops_of_max_prices) and laptop.Price < laptops_of_max_prices[i].Price:\n",
    "                i += 1\n",
    "            laptops_of_max_prices.insert(i, laptop)\n",
    "            \n",
    "for i, laptop in enumerate(laptops_of_max_prices):\n",
    "    print(f'The {i+1}th most expensive laptop is {laptop.Manufacturer} {laptop.ModelName} with price of {laptop.Price} Euros')\n",
    "    "
   ]
  },
  {
   "cell_type": "code",
   "execution_count": 42,
   "metadata": {},
   "outputs": [
    {
     "name": "stdout",
     "output_type": "stream",
     "text": [
      "The 1th most cheap laptop is Acer C740-C9QX (3205U/2GB/32GB/Chrome with price of 174.0 Euros\n",
      "The 2th most cheap laptop is Asus Vivobook E200HA with price of 191.9 Euros\n",
      "The 3th most cheap laptop is Vero V131 (X5-Z8350/4GB/32GB/FHD/W10) with price of 196.0 Euros\n",
      "The 4th most cheap laptop is Acer Chromebook C910-C2ST with price of 199.0 Euros\n",
      "The 5th most cheap laptop is Asus E402WA-GA010T (E2-6110/2GB/32GB/W10) with price of 199.0 Euros\n"
     ]
    }
   ],
   "source": [
    "laptops_of_min_prices = []\n",
    "min_count = 5\n",
    "for laptop in laptops():\n",
    "    if len(laptops_of_min_prices) < min_count or laptop.Price < laptops_of_min_prices[-1].Price:\n",
    "        if len(laptops_of_min_prices) >= min_count:\n",
    "            del laptops_of_min_prices[-1]\n",
    "            \n",
    "        if len(laptops_of_min_prices) == 0:\n",
    "            laptops_of_min_prices.append(laptop)\n",
    "        else:\n",
    "            i = 0\n",
    "            while i < len(laptops_of_min_prices) and laptop.Price > laptops_of_min_prices[i].Price:\n",
    "                i += 1\n",
    "            laptops_of_min_prices.insert(i, laptop)\n",
    "            \n",
    "for i, laptop in enumerate(laptops_of_min_prices):\n",
    "    print(f'The {i+1}th most cheap laptop is {laptop.Manufacturer} {laptop.ModelName} with price of {laptop.Price} Euros')\n",
    "    15.6"
   ]
  },
  {
   "cell_type": "code",
   "execution_count": 43,
   "metadata": {},
   "outputs": [
    {
     "name": "stdout",
     "output_type": "stream",
     "text": [
      "macOS: 13\n",
      "No OS: 66\n",
      "Windows: 1125\n",
      "Mac OS: 8\n",
      "Linux: 62\n",
      "Android: 2\n",
      "Chrome OS: 27\n"
     ]
    }
   ],
   "source": [
    "OperatingSystem_count_dict = {}\n",
    "for laptop in laptops():\n",
    "    if laptop.OperatingSystem in OperatingSystem_count_dict.keys():\n",
    "        OperatingSystem_count_dict[laptop.OperatingSystem] += 1\n",
    "    else:\n",
    "        OperatingSystem_count_dict[laptop.OperatingSystem] = 1\n",
    "for key, value in OperatingSystem_count_dict.items():\n",
    "    print(key,': ', value, sep=\"\")"
   ]
  },
  {
   "cell_type": "code",
   "execution_count": 44,
   "metadata": {},
   "outputs": [
    {
     "name": "stdout",
     "output_type": "stream",
     "text": [
      "The 1th most heavy laptop is Asus ROG G703VI-E5062T with weight of 4.7 kg\n",
      "The 2th most heavy laptop is Lenovo IdeaPad Y900-17ISK with weight of 4.6 kg\n",
      "The 3th most heavy laptop is Lenovo IdeaPad Y900-17ISK with weight of 4.6 kg\n",
      "The 4th most heavy laptop is Lenovo IdeaPad Y900-17ISK with weight of 4.6 kg\n",
      "The 5th most heavy laptop is Lenovo IdeaPad Y910-17ISK with weight of 4.6 kg\n"
     ]
    }
   ],
   "source": [
    "most_heavy_laptops = []\n",
    "count = 5\n",
    "\n",
    "for laptop in laptops():\n",
    "    if len(most_heavy_laptops) < count or laptop.Weight > most_heavy_laptops[-1].Weight:\n",
    "        if len(most_heavy_laptops) >= count:\n",
    "            del most_heavy_laptops[-1]\n",
    "            \n",
    "        if len(most_heavy_laptops) == 0:\n",
    "            most_heavy_laptops.append(laptop)\n",
    "        \n",
    "        else:\n",
    "            i = 0\n",
    "            while i < len(most_heavy_laptops) and laptop.Weight < most_heavy_laptops[i].Weight:\n",
    "                i += 1\n",
    "            most_heavy_laptops.insert(i, laptop)\n",
    "           \n",
    "                \n",
    "for i, laptop in enumerate(most_heavy_laptops):\n",
    "    print(f'The {i+1}th most heavy laptop is {laptop.Manufacturer} {laptop.ModelName} with weight of {laptop.Weight} kg')"
   ]
  },
  {
   "cell_type": "code",
   "execution_count": 45,
   "metadata": {},
   "outputs": [
    {
     "name": "stdout",
     "output_type": "stream",
     "text": [
      "The 1th laptop with most powerful RAM is Asus ROG G701VO with power of 64 GB\n",
      "The 2th laptop with most powerful RAM is Toshiba Portege X30-D-10L with power of 32 GB\n",
      "The 3th laptop with most powerful RAM is Dell XPS 15 with power of 32 GB\n",
      "The 4th laptop with most powerful RAM is Asus ROG G703VI-E5062T with power of 32 GB\n",
      "The 5th laptop with most powerful RAM is Razer Blade Pro with power of 32 GB\n"
     ]
    }
   ],
   "source": [
    "laptop_of_most_powerful_RAM = []\n",
    "count_RAM = 5\n",
    "for laptop in laptops():\n",
    "    if len(laptop_of_most_powerful_RAM) < count_RAM or laptop.RAM > laptop_of_most_powerful_RAM[-1].RAM:\n",
    "        if len(laptop_of_most_powerful_RAM) >= count_RAM:\n",
    "            del laptop_of_most_powerful_RAM[-1]\n",
    "            \n",
    "        if len(laptop_of_most_powerful_RAM) == 0:\n",
    "            laptop_of_most_powerful_RAM.append(laptop)\n",
    "        else:\n",
    "            i = 0\n",
    "            while i < len(laptop_of_most_powerful_RAM) and laptop.RAM < laptop_of_most_powerful_RAM[i].RAM:\n",
    "                i += 1\n",
    "            laptop_of_most_powerful_RAM.insert(i, laptop)\n",
    "for i,laptop in enumerate(laptop_of_most_powerful_RAM):\n",
    "    print(f'The {i+1}th laptop with most powerful RAM is {laptop.Manufacturer} {laptop.ModelName} with power of {laptop.RAM} GB' )\n",
    "    "
   ]
  },
  {
   "cell_type": "code",
   "execution_count": 46,
   "metadata": {},
   "outputs": [
    {
     "name": "stdout",
     "output_type": "stream",
     "text": [
      "8GB: 619\n",
      "16GB: 200\n",
      "4GB: 375\n",
      "2GB: 22\n",
      "12GB: 25\n",
      "6GB: 41\n",
      "32GB: 17\n",
      "24GB: 3\n",
      "64GB: 1\n"
     ]
    }
   ],
   "source": [
    "RAM_count_dict = {}\n",
    "for laptop in laptops():\n",
    "    if laptop.RAM in RAM_count_dict.keys():\n",
    "        RAM_count_dict[laptop.RAM] += 1\n",
    "    else:\n",
    "        RAM_count_dict[laptop.RAM] = 1\n",
    "for key, value in RAM_count_dict.items():\n",
    "    print(key,\"GB\",': ', value, sep=\"\")"
   ]
  },
  {
   "cell_type": "code",
   "execution_count": 47,
   "metadata": {},
   "outputs": [
    {
     "name": "stdout",
     "output_type": "stream",
     "text": [
      " up to 10: 0\n",
      " 10\"-13\":  88\n",
      " 13\"-15\":  378\n",
      " 15\" and more:  835\n"
     ]
    }
   ],
   "source": [
    "ScreenSize_count_dict = {}\n",
    "up_to_10 = 0\n",
    "between_10_13 = 0\n",
    "between_13_15 = 0\n",
    "more_15 = 0\n",
    "for laptop in laptops():\n",
    "    if laptop.ScreenSize in ScreenSize_count_dict.keys():\n",
    "        ScreenSize_count_dict[laptop.ScreenSize] += 1\n",
    "    else:\n",
    "        ScreenSize_count_dict[laptop.ScreenSize] = 1\n",
    "for key, value in ScreenSize_count_dict.items():\n",
    "    if key < 10:\n",
    "        up_to_10 += value\n",
    "    if key > 10 and key < 13:\n",
    "        between_10_13 += value\n",
    "    if key > 13 and key <= 15:\n",
    "        between_13_15 += value\n",
    "    if key > 15:\n",
    "        more_15 += value\n",
    "print(f' up to 10: {up_to_10}\\n 10\"-13\":  {between_10_13}\\n 13\"-15\":  {between_13_15}\\n 15\" and more:  {more_15}' )\n",
    "\n"
   ]
  },
  {
   "cell_type": "code",
   "execution_count": 48,
   "metadata": {},
   "outputs": [
    {
     "name": "stdout",
     "output_type": "stream",
     "text": [
      "Apple: 21\n",
      "HP: 274\n",
      "Acer: 103\n",
      "Asus: 158\n",
      "Dell: 297\n",
      "Lenovo: 297\n",
      "Chuwi: 3\n",
      "MSI: 54\n",
      "Microsoft: 6\n",
      "Toshiba: 48\n",
      "Huawei: 2\n",
      "Xiaomi: 4\n",
      "Vero: 4\n",
      "Razer: 7\n",
      "Mediacom: 7\n",
      "Samsung: 9\n",
      "Google: 3\n",
      "Fujitsu: 3\n",
      "LG: 3\n"
     ]
    }
   ],
   "source": [
    "brand_count_dict = {}\n",
    "for laptop in laptops():\n",
    "    if laptop.Manufacturer in brand_count_dict.keys():\n",
    "        brand_count_dict[laptop.Manufacturer] += 1\n",
    "    else:\n",
    "        brand_count_dict[laptop.Manufacturer] = 1\n",
    "        \n",
    "for key, value in brand_count_dict.items():\n",
    "    print(key,': ', value, sep=\"\")"
   ]
  }
 ],
 "metadata": {
  "kernelspec": {
   "display_name": "Python 3",
   "language": "python",
   "name": "python3"
  },
  "language_info": {
   "codemirror_mode": {
    "name": "ipython",
    "version": 3
   },
   "file_extension": ".py",
   "mimetype": "text/x-python",
   "name": "python",
   "nbconvert_exporter": "python",
   "pygments_lexer": "ipython3",
   "version": "3.8.5"
  }
 },
 "nbformat": 4,
 "nbformat_minor": 4
}
